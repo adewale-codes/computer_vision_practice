{
 "cells": [
  {
   "cell_type": "markdown",
   "id": "ea22fefb",
   "metadata": {},
   "source": [
    "# Image Segmentation in OpenCV Python "
   ]
  },
  {
   "cell_type": "markdown",
   "id": "a5ce18f1",
   "metadata": {},
   "source": [
    "#### Segmentation using Contour Detection "
   ]
  },
  {
   "cell_type": "markdown",
   "id": "fae10a38",
   "metadata": {},
   "source": [
    "Importing libraries and Images\n",
    "\n",
    "We start by importing the required libraries and loading the sample image. Since OpenCV reads the image in BGR format, we convert it into RGB and display the image. For our convenience, we also resize the image to 256×256 because we will create the mask of the same size in the subsequent steps."
   ]
  },
  {
   "cell_type": "code",
   "execution_count": null,
   "id": "9971e4a2",
   "metadata": {},
   "outputs": [],
   "source": [
    "import matplotlib.pyplot as plt\n",
    "import numpy as np\n",
    "import cv2"
   ]
  },
  {
   "cell_type": "code",
   "execution_count": null,
   "id": "81a3f760",
   "metadata": {},
   "outputs": [],
   "source": [
    "sample_image = cv2.imread('fish.jpg')\n",
    "img = cv2.cvtColor(sample_image,cv2.COLOR_BGR2RGB)\n",
    "img = cv2.resize(img,(256,256))\n",
    "\n",
    "plt.axis('off');\n",
    "plt.imshow(img)"
   ]
  },
  {
   "cell_type": "markdown",
   "id": "1c8d7e90",
   "metadata": {},
   "source": [
    "ii) Applying Image Thresholding\n",
    "Now we convert the image to grayscale and then apply thresholding, such that the pixel above the threshold is assigned 255 otherwise 0. The threshold value is kept as the mean of all pixel values of the gray image. The output image shows the result of this step.\n",
    "\n",
    "Learn about threshold with openCV"
   ]
  },
  {
   "cell_type": "code",
   "execution_count": null,
   "id": "12ab92d5",
   "metadata": {},
   "outputs": [],
   "source": [
    "gray = cv2.cvtColor(img,cv2.COLOR_RGB2GRAY)\n",
    "_,thresh = cv2.threshold(gray, np.mean(gray), 255, cv2.THRESH_BINARY_INV)\n",
    "\n",
    "plt.axis('off')\n",
    "plt.imshow(thresh)"
   ]
  },
  {
   "cell_type": "markdown",
   "id": "d561c213",
   "metadata": {},
   "source": [
    "ii) Detecting Edges\n",
    "Next, we apply canny edge detection to the thresholded image before using the ‘cv2.dilate’ function to dilate edges detected.\n",
    "\n",
    "Learn about Erosion and Dilation of Image"
   ]
  },
  {
   "cell_type": "code",
   "execution_count": null,
   "id": "60804fae",
   "metadata": {},
   "outputs": [],
   "source": [
    "edges = cv2.dilate(cv2.Canny(thresh,0,255),None)\n",
    "\n",
    "plt.axis('off')\n",
    "plt.imshow(edges)"
   ]
  },
  {
   "cell_type": "markdown",
   "id": "112eee69",
   "metadata": {},
   "source": [
    "iii) Detecting Contours To Create Mask\n",
    "1. Use the OpenCV find contour function to find all the open/closed regions in the image and store (cnt). Use the -1 subscript since the function returns a two-element tuple.\n",
    "2. Pass them through the sorted function to access the largest contours first.\n",
    "3. Create a zero-pixel mask that has equal shape and size to the original image.\n",
    "4. Draw the detected contours to create the mask."
   ]
  },
  {
   "cell_type": "code",
   "execution_count": null,
   "id": "ad7d516f",
   "metadata": {},
   "outputs": [],
   "source": [
    "cnt = sorted(cv2.findContours(edges, cv2.RETR_LIST, cv2.CHAIN_APPROX_SIMPLE)[-2], key=cv2.contourArea)[-1]\n",
    "mask = np.zeros((256,256), np.uint8)\n",
    "masked = cv2.drawContours(mask, [cnt],-1, 255, -1)\n",
    "\n",
    "plt.axis('off')\n",
    "plt.imshow(masked)"
   ]
  },
  {
   "cell_type": "markdown",
   "id": "af949603",
   "metadata": {},
   "source": [
    "iv) Segmenting the Regions\n",
    "In order to show only the segmented parts of the image, we perform a bitwise AND operation on the original image (img) and the mask (containing the outlines of detected contours).\n",
    "\n",
    "Finally, Convert the image back to RGB to see it segmented (while being comparable to the original image)."
   ]
  },
  {
   "cell_type": "code",
   "execution_count": null,
   "id": "ebbf2e81",
   "metadata": {},
   "outputs": [],
   "source": [
    "dst = cv2.bitwise_and(img, img, mask=mask)\n",
    "segmented = cv2.cvtColor(dst, cv2.COLOR_BGR2RGB)\n",
    "plt.imshow(segmented)"
   ]
  },
  {
   "cell_type": "markdown",
   "id": "e569fa2d",
   "metadata": {},
   "source": [
    "#### Image Segmentation using Otsu Thresholding \n",
    "\n",
    "i) Importing libraries and Images\n",
    "Let us load the required libraries and load the sample image."
   ]
  },
  {
   "cell_type": "code",
   "execution_count": null,
   "id": "f26e66e0",
   "metadata": {},
   "outputs": [],
   "source": [
    "import numpy as np\n",
    "import matplotlib.pyplot as plt\n",
    "from skimage.filters import threshold_otsu\n",
    "import cv2"
   ]
  },
  {
   "cell_type": "code",
   "execution_count": null,
   "id": "c1b8385b",
   "metadata": {},
   "outputs": [],
   "source": [
    "sample_image = cv2.imread('shape.png')\n",
    "img = cv2.cvtColor(sample_image,cv2.COLOR_BGR2RGB)\n",
    "\n",
    "plt.axis('off')\n",
    "plt.imshow(img)"
   ]
  },
  {
   "cell_type": "markdown",
   "id": "2bbcaa94",
   "metadata": {},
   "source": [
    "ii) Apply Otsu Thresholding on Image\n",
    "Otsu thresholding is a technique in which the threshold value is determined automatically to convert the image to a binary image. We first convert the image to grayscale and then use threshold_otsu() function of skimage library to find the threshold value. Using this we create the binary image."
   ]
  },
  {
   "cell_type": "code",
   "execution_count": null,
   "id": "77c6ebf3",
   "metadata": {},
   "outputs": [],
   "source": [
    "img_gray=cv2.cvtColor(img,cv2.COLOR_RGB2GRAY)\n",
    "\n",
    "thresh = threshold_otsu(img_gray)\n",
    "img_otsu  = img_gray < thresh\n",
    "\n",
    "plt.imshow(img_otsu)"
   ]
  },
  {
   "cell_type": "markdown",
   "id": "79b2dad2",
   "metadata": {},
   "source": [
    "iii) Segmentation Process\n",
    "Here we first create a “filter_image” function that multiplies the mask (created in the previous section) with the RGB channels of our image. Further, they are concatenated to form a normal image.\n",
    "\n",
    "Finally, apply the “filter_image” function on the original image(img) and the mask formed using thresholding (img_otsu)\n",
    "\n"
   ]
  },
  {
   "cell_type": "code",
   "execution_count": null,
   "id": "372d3405",
   "metadata": {},
   "outputs": [],
   "source": [
    "def filter_image(image, mask):\n",
    "\n",
    "    r = image[:,:,0] * mask\n",
    "    g = image[:,:,1] * mask\n",
    "    b = image[:,:,2] * mask\n",
    "\n",
    "    return np.dstack([r,g,b])\n",
    "\n",
    "filtered = filter_image(img, img_otsu)\n",
    "\n",
    "plt.axis('off')\n",
    "plt.imshow(filtered)"
   ]
  },
  {
   "cell_type": "markdown",
   "id": "78c1cf8e",
   "metadata": {},
   "source": [
    "#### Image Segmentation using Color Masking\n",
    "\n",
    "i) Importing libraries and Images\n",
    "Again we start with loading the required libraries and the sample image."
   ]
  },
  {
   "cell_type": "code",
   "execution_count": null,
   "id": "ab943c47",
   "metadata": {},
   "outputs": [],
   "source": [
    "import numpy as np\n",
    "import matplotlib.pyplot as plt\n",
    "from skimage.filters import threshold_otsu\n",
    "import cv2"
   ]
  },
  {
   "cell_type": "code",
   "execution_count": null,
   "id": "de6b15a2",
   "metadata": {},
   "outputs": [],
   "source": [
    "sample_image = cv2.imread('red_shape.jpg')\n",
    "img = cv2.cvtColor(sample_image,cv2.COLOR_BGR2RGB)\n",
    "\n",
    "plt.axis('off')\n",
    "plt.imshow(img)"
   ]
  },
  {
   "cell_type": "markdown",
   "id": "ddcdc9fd",
   "metadata": {},
   "source": [
    "iii) Create Mask by Detecting Color\n",
    "We use OpenCV inRange() function that requires us to give RGB low and high range of the color that should be detected in the image to create the mask. For giving the RGB range it requires your understanding of the image. Hence this approach may not be useful in complex multicolor images."
   ]
  },
  {
   "cell_type": "code",
   "execution_count": null,
   "id": "b39b9371",
   "metadata": {},
   "outputs": [],
   "source": [
    "low = np.array([0, 0, 0])\n",
    "high = np.array([255, 51, 51])\n",
    "\n",
    "mask = cv2.inRange(img, low, high)\n",
    "\n",
    "plt.axis('off')\n",
    "plt.imshow(mask)"
   ]
  },
  {
   "cell_type": "markdown",
   "id": "0f1c85c5",
   "metadata": {},
   "source": [
    "iv) Apply the Mask\n",
    "Finally, we use the bitwise AND operation to apply our mask for segmenting the image."
   ]
  },
  {
   "cell_type": "code",
   "execution_count": null,
   "id": "a6e4bc20",
   "metadata": {},
   "outputs": [],
   "source": [
    "result = cv2.bitwise_and(img, img, mask=mask)\n",
    "\n",
    "plt.axis('off')\n",
    "plt.imshow(result)"
   ]
  },
  {
   "cell_type": "markdown",
   "id": "13225a18",
   "metadata": {},
   "source": [
    "#### Python OpenCV – Morphological Operations \n",
    "\n",
    "Python OpenCV Morphological operations are one of the Image processing techniques that processes image based on shape. This processing strategy is usually performed on binary images. \n",
    "\n",
    "Morphological operations based on OpenCV are as follows:\n",
    "\n",
    "1. Erosion\n",
    "2. Dilation\n",
    "3. Opening\n",
    "4. Closing\n",
    "5. Morphological Gradient\n",
    "6. Top hat\n",
    "7. Black hat\n",
    "\n",
    "For all the above techniques the two important requirements are the binary image and a kernel structuring element that is used to slide across the image."
   ]
  },
  {
   "cell_type": "markdown",
   "id": "cb142dd0",
   "metadata": {},
   "source": [
    "##### Erosion\n",
    "Erosion primarily involves eroding the outer surface (the foreground) of the image. As binary images only contain two pixels 0 and 255, it primarily involves eroding the foreground of the image and it is suggested to have the foreground as white. The thickness of erosion depends on the size and shape of the defined kernel. We can make use of NumPy’s ones() function to define a kernel. There are a lot of other functions like NumPy zeros, customized kernels, and others that can be used to define kernels based on the problem in hand.\n",
    "\n",
    "Code:\n",
    "\n",
    "Import the necessary packages as shown\n",
    "Read the image\n",
    "Binarize the image.\n",
    "As it is advised to keep the foreground in white, we are performing OpenCV’s invert operation on the binarized image to make the foreground as white.\n",
    "We are defining a 5×5 kernel filled with ones\n",
    "Then we can make use of Opencv erode() function to erode the boundaries of the image.\n",
    "\n",
    "Output:\n",
    "The output should be a thinner image than the original one.\n"
   ]
  },
  {
   "cell_type": "code",
   "execution_count": null,
   "id": "b66db557",
   "metadata": {},
   "outputs": [],
   "source": [
    "from skimage.io import imshow, imread\n",
    "import matplotlib.pyplot as plt\n",
    "\n",
    "image=imread(\"abc.jpg\")#This image only depicts the output image from the Python script and is not a part of the actual script. \n",
    "plt.title('Orginal image')\n",
    "plt.imshow(image)\n",
    "plt.show()"
   ]
  },
  {
   "cell_type": "code",
   "execution_count": null,
   "id": "6c9bf801",
   "metadata": {},
   "outputs": [],
   "source": [
    "# import the necessary packages\n",
    "import cv2\n",
    "import numpy as np\n",
    "import matplotlib.pyplot as plt\n",
    "  \n",
    "# read the image\n",
    "img = cv2.imread(\"abc.jpg\", 0)\n",
    "  \n",
    "# binarize the image\n",
    "binr = cv2.threshold(img, 0, 255, cv2.THRESH_BINARY+cv2.THRESH_OTSU)[1]\n",
    "  \n",
    "# define the kernel\n",
    "kernel = np.ones((5, 5), np.uint8)\n",
    "  \n",
    "# invert the image\n",
    "invert = cv2.bitwise_not(binr)\n",
    "  \n",
    "# erode the image\n",
    "erosion = cv2.erode(invert, kernel,\n",
    "                    iterations=4)\n",
    "  \n",
    "# print the output\n",
    "plt.imshow(erosion, cmap='gray')\n",
    "plt.title('Erosion image')"
   ]
  },
  {
   "cell_type": "markdown",
   "id": "4feeef42",
   "metadata": {},
   "source": [
    "##### Dilation\n",
    "Dilation involves dilating the outer surface (the foreground) of the image. As binary images only contain two pixels 0 and 255, it primarily involves expanding the foreground of the image and it is suggested to have the foreground as white. The thickness of erosion depends on the size and shape of the defined kernel. We can make use of NumPy’s ones() function to define a kernel. There are a lot of other functions like NumPy zeros, customized kernels, and others that can be used to define kernels based on the problem at hand. It is exactly opposite to the erosion operation\n",
    "\n",
    "Code:\n",
    "\n",
    "Import the necessary packages as shown\n",
    "Read the image\n",
    "Binarize the image.\n",
    "As it is advised to keep the foreground in white, we are performing OpenCV’s invert operation on the binarized image to make the foreground white.\n",
    "We are defining a 3×3 kernel filled with ones\n",
    "Then we can make use of the Opencv dilate() function to dilate the boundaries of the image.\n",
    "\n",
    "Output:\n",
    "\n",
    "The output should be a thicker image than the original one."
   ]
  },
  {
   "cell_type": "code",
   "execution_count": null,
   "id": "44f3182b",
   "metadata": {},
   "outputs": [],
   "source": [
    "import cv2\n",
    "\n",
    "# read the image\n",
    "img = cv2.imread(\"abc.jpg\", 0)\n",
    "\n",
    "# binarize the image\n",
    "binr = cv2.threshold(img, 0, 255, cv2.THRESH_BINARY+cv2.THRESH_OTSU)[1]\n",
    "\n",
    "# define the kernel\n",
    "kernel = np.ones((3, 3), np.uint8)\n",
    "\n",
    "# invert the image\n",
    "invert = cv2.bitwise_not(binr)\n",
    "\n",
    "# dilate the image\n",
    "dilation = cv2.dilate(invert, kernel, iterations=4)\n",
    "\n",
    "# print the output\n",
    "plt.imshow(dilation, cmap='gray')\n"
   ]
  },
  {
   "cell_type": "markdown",
   "id": "7426dc55",
   "metadata": {},
   "source": [
    "##### Opening\n",
    "Opening involves erosion followed by dilation in the outer surface (the foreground) of the image. All the above-said constraints for erosion and dilation applies here. It is a blend of the two prime methods. It is generally used to remove the noise in the image.\n",
    "\n",
    "Code:\n",
    "\n",
    "Import the necessary packages as shown\n",
    "Read the image\n",
    "Binarize the image.\n",
    "We are defining a 3×3 kernel filled with ones\n",
    "Then we can make use of the Opencv cv.morphologyEx() function to perform an Opening operation on the image."
   ]
  },
  {
   "cell_type": "code",
   "execution_count": null,
   "id": "a6117a9f",
   "metadata": {},
   "outputs": [],
   "source": [
    "from skimage.io import imshow, imread\n",
    "import matplotlib.pyplot as plt\n",
    "\n",
    "image=imread(\"car-noise.png\")#This image only depicts the output image from the Python script and is not a part of the actual script. \n",
    "plt.title('Orginal image')\n",
    "plt.imshow(image)\n",
    "plt.show()"
   ]
  },
  {
   "cell_type": "code",
   "execution_count": null,
   "id": "faa051d2",
   "metadata": {},
   "outputs": [],
   "source": [
    "# import the necessary packages\n",
    "import cv2\n",
    "  \n",
    "# read the image\n",
    "img = cv2.imread(\"car-noise.png\", 0)\n",
    "  \n",
    "# binarize the image\n",
    "binr = cv2.threshold(img, 0, 255,\n",
    "                     cv2.THRESH_BINARY+cv2.THRESH_OTSU)[1]\n",
    "  \n",
    "# define the kernel\n",
    "kernel = np.ones((3, 3), np.uint8)\n",
    "  \n",
    "# opening the image\n",
    "opening = cv2.morphologyEx(binr, cv2.MORPH_OPEN,\n",
    "                           kernel, iterations=1)\n",
    "# print the output\n",
    "plt.imshow(opening, cmap='gray')\n",
    "plt.title('opening image')"
   ]
  },
  {
   "cell_type": "markdown",
   "id": "16e4b320",
   "metadata": {},
   "source": [
    "##### Closing\n",
    "Closing involves dilation followed by erosion in the outer surface (the foreground) of the image. All the above-said constraints for erosion and dilation applies here. It is a blend of the two prime methods. It is generally used to remove the noise in the image.\n",
    "\n",
    "Code:\n",
    "\n",
    "Import the necessary packages as shown\n",
    "Read the image\n",
    "Binarize the image.\n",
    "We are defining a 3×3 kernel filled with ones\n",
    "Then we can make use of the Opencv cv.morphologyEx() function to perform a Closing operation on the image."
   ]
  },
  {
   "cell_type": "code",
   "execution_count": null,
   "id": "7c78fadd",
   "metadata": {},
   "outputs": [],
   "source": [
    "# import the necessary packages\n",
    "import cv2\n",
    "  \n",
    "# read the image\n",
    "img = cv2.imread(\"car-noise.png\", 0)\n",
    "  \n",
    "# binarize the image\n",
    "binr = cv2.threshold(img, 0, 255, cv2.THRESH_BINARY+cv2.THRESH_OTSU)[1]\n",
    "  \n",
    "# define the kernel\n",
    "kernel = np.ones((3, 3), np.uint8)\n",
    "  \n",
    "# opening the image\n",
    "closing = cv2.morphologyEx(binr, cv2.MORPH_CLOSE, kernel, iterations=1)\n",
    "  \n",
    "# print the output\n",
    "plt.imshow(closing, cmap='gray')\n",
    "plt.title('closing image')"
   ]
  },
  {
   "cell_type": "markdown",
   "id": "4dc0533f",
   "metadata": {},
   "source": [
    "##### Morphological Gradient\n",
    "Morphological gradient is slightly different than the other operations, because, the morphological gradient first applies erosion and dilation individually on the image and then computes the difference between the eroded and dilated image. The output will be an outline of the given image.\n",
    "\n",
    " Code:\n",
    "\n",
    "Import the necessary packages as shown\n",
    "Read the image\n",
    "Binarize the image.\n",
    "As it is advised to keep the foreground in white, we are performing OpenCV’s invert operation on the binarized image to make the foreground as white.\n",
    "We are defining a 3×3 kernel filled with ones\n",
    "Then we can make use of the Opencv cv.morphologyEx() function to perform a Morphological gradient on the image."
   ]
  },
  {
   "cell_type": "code",
   "execution_count": null,
   "id": "b38d1e11",
   "metadata": {},
   "outputs": [],
   "source": [
    "# import the necessary packages\n",
    "import cv2\n",
    "  \n",
    "# read the image\n",
    "img = cv2.imread(\"abc.jpg\", 0)\n",
    "  \n",
    "# binarize the image\n",
    "binr = cv2.threshold(img, 0, 255, cv2.THRESH_BINARY+cv2.THRESH_OTSU)[1]\n",
    "  \n",
    "# define the kernel\n",
    "kernel = np.ones((3, 3), np.uint8)\n",
    "  \n",
    "# invert the image\n",
    "invert = cv2.bitwise_not(binr)\n",
    "  \n",
    "# use morph gradient\n",
    "morph_gradient = cv2.morphologyEx(invert,\n",
    "                                  cv2.MORPH_GRADIENT, \n",
    "                                  kernel)\n",
    "  \n",
    "# print the output\n",
    "plt.imshow(morph_gradient, cmap='gray')\n",
    "plt.title('Morphological gradient image')"
   ]
  }
 ],
 "metadata": {
  "kernelspec": {
   "display_name": "Python 3 (ipykernel)",
   "language": "python",
   "name": "python3"
  },
  "language_info": {
   "codemirror_mode": {
    "name": "ipython",
    "version": 3
   },
   "file_extension": ".py",
   "mimetype": "text/x-python",
   "name": "python",
   "nbconvert_exporter": "python",
   "pygments_lexer": "ipython3",
   "version": "3.10.9"
  }
 },
 "nbformat": 4,
 "nbformat_minor": 5
}
