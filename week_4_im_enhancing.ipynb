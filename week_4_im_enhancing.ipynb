{
 "cells": [
  {
   "cell_type": "markdown",
   "id": "7fd97921",
   "metadata": {},
   "source": [
    "#### Image Enhancement in Python\n",
    "\n",
    "Image enhancement is usually used as a preprocessing step in the fundamental steps involved in digital image processing (i.e. segmentation, representation). There are many techniques for image enhancement, but I will be covering two techniques in this tutorial: image inverse and power law transformation. "
   ]
  },
  {
   "cell_type": "markdown",
   "id": "3749d13d",
   "metadata": {},
   "source": [
    "##### Below is the Python code to apply gamma correction"
   ]
  },
  {
   "cell_type": "code",
   "execution_count": null,
   "id": "18786d15",
   "metadata": {},
   "outputs": [],
   "source": [
    "import cv2\n",
    "import numpy as np\n",
    "  \n",
    "# Open the image.\n",
    "img = cv2.imread('boat.png')\n",
    "  \n",
    "# Trying 4 gamma values.\n",
    "for gamma in [0.1, 0.5, 1.2, 2.2]:\n",
    "      \n",
    "    # Apply gamma correction.\n",
    "    gamma_corrected = np.array(255*(img / 255) ** gamma, dtype = 'uint8')\n",
    "  \n",
    "    # Save edited images.\n",
    "    cv2.imwrite('gamma_transformed_'+str(gamma)+'.jpg', gamma_corrected)"
   ]
  },
  {
   "cell_type": "code",
   "execution_count": null,
   "id": "19a9d71c",
   "metadata": {},
   "outputs": [],
   "source": [
    "from skimage.io import imshow, imread\n",
    "import matplotlib.pyplot as plt\n",
    "\n",
    "image=imread(\"gamma_transformed_0.1.jpg\")#This image only depicts the output image from the Python script and is not a part of the actual script. \n",
    "plt.imshow(image)\n",
    "plt.show()"
   ]
  },
  {
   "cell_type": "markdown",
   "id": "d3638ed2",
   "metadata": {},
   "source": [
    "##### Log Transformations \n",
    "Mathematically, log transformations can be expressed as s = clog(1+r). Here, s is the output intensity, r>=0 is the input intensity of the pixel, and c is a scaling constant. c is given by 255/(log (1 + m)), where m is the maximum pixel value in the image. It is done to ensure that the final pixel value does not exceed (L-1), or 255. Practically, log transformation maps a narrow range of low-intensity input values to a wide range of output values.\n",
    "\n",
    "Consider the following input image."
   ]
  },
  {
   "cell_type": "code",
   "execution_count": null,
   "id": "b77560a7",
   "metadata": {},
   "outputs": [],
   "source": [
    "from skimage.io import imshow, imread\n",
    "import matplotlib.pyplot as plt\n",
    "\n",
    "image=imread(\"boat.png\")#This image only depicts the output image from the Python script and is not a part of the actual script. \n",
    "plt.imshow(image)\n",
    "plt.show()"
   ]
  },
  {
   "cell_type": "code",
   "execution_count": null,
   "id": "e8bc77be",
   "metadata": {},
   "outputs": [],
   "source": [
    "#Below is the code to apply log transformation to the image.\n",
    "\n",
    "import cv2\n",
    "import numpy as np\n",
    "  \n",
    "# Open the image.\n",
    "img = cv2.imread('boat.png')\n",
    "  \n",
    "# Apply log transform.\n",
    "c = 255/(np.log(1 + np.max(img)))\n",
    "log_transformed = c * np.log(1 + img)\n",
    "  \n",
    "# Specify the data type.\n",
    "log_transformed = np.array(log_transformed, dtype = np.uint8)\n",
    "  \n",
    "# Save the output.\n",
    "cv2.imwrite('log_transformed.jpg', log_transformed)"
   ]
  },
  {
   "cell_type": "code",
   "execution_count": null,
   "id": "63be1e30",
   "metadata": {},
   "outputs": [],
   "source": [
    "#Below is the log-transformed output\n",
    "\n",
    "from skimage.io import imshow, imread\n",
    "import matplotlib.pyplot as plt\n",
    "\n",
    "image=imread(\"log_transformed.jpg\")#This image only depicts the output image from the Python script and is not a part of the actual script. \n",
    "plt.imshow(image)\n",
    "plt.show()"
   ]
  },
  {
   "cell_type": "markdown",
   "id": "ecefa114",
   "metadata": {},
   "source": [
    "Piecewise-Linear Transformation Functions –\n",
    "These functions, as the name suggests, are not entirely linear in nature. However, they are linear between certain x-intervals. One of the most commonly used piecewise-linear transformation functions is contrast stretching.\n",
    "\n",
    "Contrast can be defined as:\n",
    "\n",
    "Contrast =  (I_max - I_min)/(I_max + I_min)\n",
    "This process expands the range of intensity levels in an image so that it spans the full intensity of the camera/display. The figure below shows the graph corresponding to the contrast stretching.\n"
   ]
  },
  {
   "cell_type": "code",
   "execution_count": null,
   "id": "e35cbe0c",
   "metadata": {},
   "outputs": [],
   "source": [
    "from skimage.io import imshow, imread\n",
    "import matplotlib.pyplot as plt\n",
    "\n",
    "image=imread(\"contrast streching.png\")#This image only depicts the output image from the Python script and is not a part of the actual script. \n",
    "plt.imshow(image)\n",
    "plt.show()"
   ]
  },
  {
   "cell_type": "markdown",
   "id": "e9e55ebd",
   "metadata": {},
   "source": [
    "With (r1, s1), (r2, s2) as parameters, the function stretches the intensity levels by essentially decreasing the intensity of the dark pixels and increasing the intensity of the light pixels. If r1 = s1 = 0 and r2 = s2 = L-1, the function becomes a straight dotted line in the graph (which gives no effect). The function is monotonically increasing so that the order of intensity levels between pixels is preserved.\n",
    "\n",
    "Below is the Python code perform contrast stretching.\n"
   ]
  },
  {
   "cell_type": "code",
   "execution_count": null,
   "id": "d8445890",
   "metadata": {},
   "outputs": [],
   "source": [
    "import cv2\n",
    "import numpy as np\n",
    "  \n",
    "# Function to map each intensity level to output intensity level.\n",
    "def pixelVal(pix, r1, s1, r2, s2):\n",
    "    if (0 <= pix and pix <= r1):\n",
    "        return (s1 / r1)*pix\n",
    "    elif (r1 < pix and pix <= r2):\n",
    "        return ((s2 - s1)/(r2 - r1)) * (pix - r1) + s1\n",
    "    else:\n",
    "        return ((255 - s2)/(255 - r2)) * (pix - r2) + s2\n",
    "  \n",
    "# Open the image\n",
    "img = cv2.imread('boat.png')\n",
    "  \n",
    "# Define parameters.\n",
    "r1 = 70\n",
    "s1 = 0\n",
    "r2 = 140\n",
    "s2 = 255\n",
    "  \n",
    "# Vectorize the function to apply it to each value in the Numpy array.\n",
    "pixelVal_vec = np.vectorize(pixelVal)\n",
    "  \n",
    "# Apply contrast stretching.\n",
    "contrast_stretched = pixelVal_vec(img, r1, s1, r2, s2)\n",
    "  \n",
    "# Save edited image.\n",
    "cv2.imwrite('contrast_stretch.jpg', contrast_stretched)"
   ]
  },
  {
   "cell_type": "code",
   "execution_count": null,
   "id": "7198d351",
   "metadata": {},
   "outputs": [],
   "source": [
    "from skimage.io import imshow, imread\n",
    "import matplotlib.pyplot as plt\n",
    "\n",
    "image=imread(\"contrast_stretch.jpg\")#This image only depicts the output image from the Python script and is not a part of the actual script. \n",
    "plt.imshow(image)\n",
    "plt.show()"
   ]
  }
 ],
 "metadata": {
  "kernelspec": {
   "display_name": "Python 3 (ipykernel)",
   "language": "python",
   "name": "python3"
  },
  "language_info": {
   "codemirror_mode": {
    "name": "ipython",
    "version": 3
   },
   "file_extension": ".py",
   "mimetype": "text/x-python",
   "name": "python",
   "nbconvert_exporter": "python",
   "pygments_lexer": "ipython3",
   "version": "3.10.9"
  }
 },
 "nbformat": 4,
 "nbformat_minor": 5
}
