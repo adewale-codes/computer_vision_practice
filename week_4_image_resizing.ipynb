{
 "cells": [
  {
   "cell_type": "markdown",
   "id": "17b8d387",
   "metadata": {},
   "source": [
    "##### Introduction\n",
    "In this tutorial, we will explain how to scale and resize image in Python by using the OpenCV function cv2.resize(). We shall first cover the syntax of cv2.resize() and understand its various parameters and options. Then we will see various examples of resizing the images using this function.\n",
    "\n",
    "Resizing Image using OpenCV : cv2.resize()\n",
    "\n",
    "###Syntax\n",
    "cv2.resize(src, dsize, fx, fy, interpolation)\n",
    "\n",
    "\n",
    "1. src – This is the input image that needs to be resized.\n",
    "2. dsize – The size of the output image, given as (width, height)\n",
    "3. fx – This denotes the scale factor along the x-axis\n",
    "4. fy – This denotes the scale factor along the y-axis\n",
    "\n",
    "interpolation – Denotes the interpolation techniques, default is cv2.INTER_LINEAR\n",
    "Some Points to Consider about cv2.resize()\n",
    "You may use either dsize or both fx and fy to resize the image.\n",
    "dsize parameter can be used to specify the exact image size. But for this, you will have to calculate the width and height of the resized image beforehand.\n",
    "fx and fy are good options if you want to scale the image with a factor. For e.g. 0.5 for half, 2 for double, etc.\n",
    "Interpolation Parameters for cv2.resize()\n",
    "To resize the image, the cv2 resize() function uses interpolation for resizing. This is because when the image is scaled up it needs more pixels to fill up the spaces between actual pixels. And when the image is scaled down it needs to\n",
    "\n",
    "\n",
    "\n",
    "1. cv2.INTER_LINEAR – It uses bilinear interpolation, which is preferably used for scaling up the image to a larger size. This is the default option in cv2.resize()\n",
    "2. cv2.INTER_NEAREST – It uses nearest-neighbor interpolation, which is fast but produces blocky images.\n",
    "3. cv2.INTER_AREA – It uses pixel area interpolation which is better used for downscaling the image.\n",
    "4. cv2.INTER_CUBIC – It uses bicubic interpolation over a 4 x 4 pixel neighborhood. It is relatively slow.\n",
    "5. cv2.INTER_LANCZOS4 – It uses Lanczos interpolation over an 8 x 8 pixel neihborhood, it produces the highest quality but is slow."
   ]
  },
  {
   "cell_type": "code",
   "execution_count": null,
   "id": "5500f11c",
   "metadata": {},
   "outputs": [],
   "source": [
    "#Examples of cv2.resize() in Python OpenCV\n",
    "#Let us start by importing the OpenCV library as shown below-\n",
    "\n",
    "import cv2\n",
    "import matplotlib.pyplot as plt\n",
    "\n",
    "#read image\n",
    "img=cv2.imread(\"baboon.png\")\n",
    "\n",
    "print('Image Width is',img.shape[1])\n",
    "print('Image Height is',img.shape[0])\n",
    "plt.imshow(cv2.cvtColor(img, cv2.COLOR_BGR2RGB))\n",
    "#We can see the original size of the image"
   ]
  },
  {
   "cell_type": "markdown",
   "id": "d0f082cf",
   "metadata": {},
   "source": [
    "#### Examples of using cv2.resize() function\n",
    "Resizing an image can be done in many ways. We will look into examples demonstrating the following resize operations.\n",
    "\n",
    "1. Preserve Aspect Ratio (height to width ratio of image is preserved)\n",
    "             Downscale (Decrease the size of the image)\n",
    "             Upscale (Increase the size of the image)\n",
    "2. Do not preserve Aspect Ratio\n",
    "             Resize only the width (Increase or decrease the width of the image keeping height unchanged)\n",
    "             Resize only the height (Increase or decrease the height of the image keeping width unchanged)\n",
    "3. Resize to specific width and height"
   ]
  },
  {
   "cell_type": "markdown",
   "id": "a28c0909",
   "metadata": {},
   "source": [
    "##### Example – 1: Resize the Image to Half By Calculating Pixel Size\n",
    "\n",
    "To resize the image to half, we first calculate the pixel size of width and height for the new image and then pass it to cv2 resize() function. It can be seen that the width and height of the new image are half of the original image.\n",
    "\n",
    "\n",
    "\n",
    "##### Example 1 – Resize and Preserve Aspect Ratio\n",
    "1. Downscale with resize()\n",
    "\n",
    "In the following example, scale_percent value holds the percentage by which image has to be scaled. Providing a value <100 downscales the image provided. We will use this scale_percent value along with original image’s dimensions to calculate the width and height of output image."
   ]
  },
  {
   "cell_type": "code",
   "execution_count": null,
   "id": "91f05288",
   "metadata": {},
   "outputs": [],
   "source": [
    "import cv2\n",
    " \n",
    "img = cv2.imread('baboon.png', cv2.IMREAD_UNCHANGED)\n",
    " \n",
    "print('Original Dimensions : ',img.shape)\n",
    " \n",
    "scale_percent = 60 # percent of original size\n",
    "width = int(img.shape[1] * scale_percent / 100)\n",
    "height = int(img.shape[0] * scale_percent / 100)\n",
    "dim = (width, height)\n",
    "  \n",
    "# resize image\n",
    "resized = cv2.resize(img, dim, interpolation = cv2.INTER_AREA)\n",
    " \n",
    "print('Resized Dimensions : ',resized.shape)\n",
    " \n",
    "plt.imshow(resized)"
   ]
  },
  {
   "cell_type": "code",
   "execution_count": null,
   "id": "29936fb0",
   "metadata": {},
   "outputs": [],
   "source": [
    "from skimage.io import imshow, imread\n",
    "import matplotlib.pyplot as plt\n",
    "\n",
    "image=imread(\"resize_down.png\")#This image only depicts the output image from the Python script and is not a part of the actual script. \n",
    "plt.imshow(image)\n",
    "plt.show()"
   ]
  },
  {
   "cell_type": "markdown",
   "id": "b9770913",
   "metadata": {},
   "source": [
    "2. Upscale with resize()\n",
    "In the following example, scale_percent value holds the percentage by which image has to be scaled. Providing a value >100 upscales the image provided."
   ]
  },
  {
   "cell_type": "code",
   "execution_count": null,
   "id": "edc66ce0",
   "metadata": {},
   "outputs": [],
   "source": [
    "import cv2\n",
    " \n",
    "img = cv2.imread('baboon.png', cv2.IMREAD_UNCHANGED)\n",
    " \n",
    "print('Original Dimensions : ',img.shape)\n",
    " \n",
    "scale_percent = 220 # percent of original size\n",
    "width = int(img.shape[1] * scale_percent / 100)\n",
    "height = int(img.shape[0] * scale_percent / 100)\n",
    "dim = (width, height)\n",
    "  \n",
    "# resize image\n",
    "resized = cv2.resize(img, dim, interpolation = cv2.INTER_AREA)\n",
    " \n",
    "print('Resized Dimensions : ',resized.shape)\n",
    " \n",
    "plt.imshow(resized)"
   ]
  },
  {
   "cell_type": "markdown",
   "id": "552ad44c",
   "metadata": {},
   "source": [
    "##### Example 2 – Resize and Do not Preserve Aspect Ratio\n",
    "1. Resize only width\n",
    "In this example, we provided a specific value in pixels for width and left the height unchanged."
   ]
  },
  {
   "cell_type": "code",
   "execution_count": null,
   "id": "23cf1018",
   "metadata": {},
   "outputs": [],
   "source": [
    "import cv2\n",
    " \n",
    "img = cv2.imread('baboon.png', cv2.IMREAD_UNCHANGED)\n",
    " \n",
    "print('Original Dimensions : ',img.shape)\n",
    " \n",
    "width = 440\n",
    "height = img.shape[0] # keep original height\n",
    "dim = (width, height)\n",
    " \n",
    "# resize image\n",
    "resized = cv2.resize(img, dim, interpolation = cv2.INTER_AREA)\n",
    " \n",
    "print('Resized Dimensions : ',resized.shape)\n",
    " \n",
    "plt.imshow(resized)"
   ]
  },
  {
   "cell_type": "markdown",
   "id": "81b1e99e",
   "metadata": {},
   "source": [
    "2. Resize only height\n",
    "In the following example, scale_percent value holds the percentage by which height has to be scaled. Or you may also provide a specific value in pixels."
   ]
  },
  {
   "cell_type": "code",
   "execution_count": null,
   "id": "cac55657",
   "metadata": {},
   "outputs": [],
   "source": [
    "import cv2\n",
    " \n",
    "img = cv2.imread('baboon.png', cv2.IMREAD_UNCHANGED)\n",
    " \n",
    "print('Original Dimensions : ',img.shape)\n",
    " \n",
    "width = img.shape[1] # keep original width\n",
    "height = 440\n",
    "dim = (width, height)\n",
    " \n",
    "# resize image\n",
    "resized = cv2.resize(img, dim, interpolation = cv2.INTER_AREA)\n",
    " \n",
    "print('Resized Dimensions : ',resized.shape)\n",
    " \n",
    "plt.imshow(resized)"
   ]
  },
  {
   "cell_type": "markdown",
   "id": "b53844f9",
   "metadata": {},
   "source": [
    "3. Resize to specific width and height\n",
    "In the following example, we shall provide specific value in pixels for both width and height."
   ]
  },
  {
   "cell_type": "code",
   "execution_count": null,
   "id": "24ca01e2",
   "metadata": {},
   "outputs": [],
   "source": [
    "import cv2\n",
    " \n",
    "img = cv2.imread('baboon.png', cv2.IMREAD_UNCHANGED)\n",
    " \n",
    "print('Original Dimensions : ',img.shape)\n",
    " \n",
    "width = 350\n",
    "height = 450\n",
    "dim = (width, height)\n",
    " \n",
    "# resize image\n",
    "resized = cv2.resize(img, dim, interpolation = cv2.INTER_AREA)\n",
    " \n",
    "print('Resized Dimensions : ',resized.shape)\n",
    " \n",
    "plt.imshow(resized)"
   ]
  },
  {
   "cell_type": "markdown",
   "id": "2a927d32",
   "metadata": {},
   "source": [
    "##### Example – 2: Scaling Down the Image to Factor 0.5 (Half)\n",
    "This is another way of resizing the image to half by passing the value of x-axis and y-axis factor parameters as 0.5 to the cv2 resize function. In this case, there is no need to calculate the pixel size of the new image."
   ]
  },
  {
   "cell_type": "code",
   "execution_count": null,
   "id": "025670d5",
   "metadata": {},
   "outputs": [],
   "source": [
    "img=cv2.imread(\"baboon.png\")\n",
    "img_half = cv2.resize(img, None, fx = 0.5, fy = 0.5)\n",
    "\n",
    "print('Image Width is',img_half.shape[1])\n",
    "print('Image Height is',img_half.shape[0])\n",
    "plt.imshow(cv2.cvtColor(img_half, cv2.COLOR_BGR2RGB))"
   ]
  },
  {
   "cell_type": "markdown",
   "id": "19e07760",
   "metadata": {},
   "source": [
    "##### Example – 1: Resize the Image to Half By Calculating Pixel Size\n",
    "To resize the image to half, we first calculate the pixel size of width and height for the new image and then pass it to cv2 resize() function. It can be seen that the width and height of the new image are half of the original image."
   ]
  },
  {
   "cell_type": "code",
   "execution_count": null,
   "id": "3e1f3c5b",
   "metadata": {},
   "outputs": [],
   "source": [
    "img=cv2.imread(\"baboon.png\")\n",
    "\n",
    "#Calculating the Pixel Size for Resizing\n",
    "new_width = int(img.shape[1]/2)\n",
    "new_height = int(img.shape[0]/2)\n",
    "\n",
    "img_half = cv2.resize(img, (new_width, new_height))\n",
    "\n",
    "print('Image Width is',img_half.shape[1])\n",
    "print('Image Height is',img_half.shape[0])\n",
    "plt.imshow(cv2.cvtColor(img_half, cv2.COLOR_BGR2RGB))"
   ]
  },
  {
   "cell_type": "markdown",
   "id": "17f8b7f8",
   "metadata": {},
   "source": [
    "##### Example – 3: Resize the Image to Double By Calculating Pixel Size\n",
    "To double the image size, first, the pixel size of width and height for the new image are calculated and then they are passed to the cv2 resize() function. It can be seen that the width and height of the new image are double of the original image.\n"
   ]
  },
  {
   "cell_type": "code",
   "execution_count": null,
   "id": "c9caceed",
   "metadata": {},
   "outputs": [],
   "source": [
    "img=cv2.imread(\"baboon.png\")\n",
    "#Calculating the Pixel Size for Resizing\n",
    "\n",
    "new_width = int(img.shape[1]*2)\n",
    "new_height = int(img.shape[0]*2)\n",
    "\n",
    "img_double = cv2.resize(img, (new_width, new_height))\n",
    "\n",
    "print('Image Width is',img_double.shape[1])\n",
    "print('Image Height is',img_double.shape[0])\n",
    "plt.imshow(cv2.cvtColor(img_double, cv2.COLOR_BGR2RGB))"
   ]
  },
  {
   "cell_type": "markdown",
   "id": "07296a29",
   "metadata": {},
   "source": [
    "##### Example – 4: Scale Up the Image to Factor 2 (Double)\n",
    "This is another way of scaling up the image to double the size by passing the value of x-axis and y-axis factor parameters as 2 to the cv2 resize function. Here, there is no need to calculate the pixel size of the new image."
   ]
  },
  {
   "cell_type": "code",
   "execution_count": null,
   "id": "475e5553",
   "metadata": {},
   "outputs": [],
   "source": [
    "\n",
    "img=cv2.imread(\"baboon.png\")\n",
    "img_double = cv2.resize(img, None, fx = 2, fy = 2)\n",
    "\n",
    "print('Image Width is',img_double.shape[1])\n",
    "print('Image Height is',img_double.shape[0])\n",
    "plt.imshow(cv2.cvtColor(img_double, cv2.COLOR_BGR2RGB))"
   ]
  }
 ],
 "metadata": {
  "kernelspec": {
   "display_name": "Python 3 (ipykernel)",
   "language": "python",
   "name": "python3"
  },
  "language_info": {
   "codemirror_mode": {
    "name": "ipython",
    "version": 3
   },
   "file_extension": ".py",
   "mimetype": "text/x-python",
   "name": "python",
   "nbconvert_exporter": "python",
   "pygments_lexer": "ipython3",
   "version": "3.10.9"
  }
 },
 "nbformat": 4,
 "nbformat_minor": 5
}
