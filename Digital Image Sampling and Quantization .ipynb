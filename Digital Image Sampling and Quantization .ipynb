{
 "cells": [
  {
   "cell_type": "markdown",
   "id": "4bd72e39",
   "metadata": {},
   "source": [
    "#### Digital Image Sampling and Quantization"
   ]
  },
  {
   "cell_type": "markdown",
   "id": "9ad7a1e1",
   "metadata": {},
   "source": [
    "we will be exploring how image resolution is represented in computer vision. More specifically, we will be looking at how the spatial resolution and intensity value discretization can affect the image’s overall quality.\n",
    "\n",
    "Let’s begin.\n",
    "\n",
    "As usual, we import libraries such as numpy and matplotlib. Additionally, we import specific functions from the skimage library.\n",
    "\n",
    "import numpy as np\n",
    "import matplotlib.pyplot as plt\n",
    "from skimage.io import imshow, imread\n",
    "\n",
    "But first, let us define what image sampling is. Image sampling involves taking the value of the image at regular spatial intervals. The length of the intervals defines the spatial resolution of the image.\n",
    "\n",
    "To better explain this, let us try to sample an analog image of a circle where N is the number of pixels on the side of the image.\n",
    "\n",
    "def circle_image(x, y):\n",
    "    X, Y = np.meshgrid(x, y)\n",
    "    return X**2 + Y**2\n",
    "factors = 2**np.arange(1, 5)\n",
    "fig, ax = plt.subplots(1, len(factors), figsize=(15, 4))\n",
    "for i, N in enumerate(factors):\n",
    "    image = circle_image(np.linspace(-1, 1, num=N), np.linspace(-1, 1, num=N))\n",
    "    ax[i].imshow(image, cmap='gray')\n",
    "    ax[i].set_title('$N = {}$'.format(N))\n",
    "    \n",
    "\n",
    "the image’s resolution is better, and the points are much denser as N increases. This signifies that as we increase the number of pixels in the image, we can better represent an analog object into a digital image."
   ]
  },
  {
   "cell_type": "code",
   "execution_count": null,
   "id": "0dea0887",
   "metadata": {},
   "outputs": [],
   "source": [
    "import numpy as np\n",
    "import matplotlib.pyplot as plt\n",
    "from skimage.io import imshow, imread"
   ]
  },
  {
   "cell_type": "code",
   "execution_count": null,
   "id": "e23b6ec9",
   "metadata": {},
   "outputs": [],
   "source": [
    "image=imread(\"image sampling.png\")  #this image only for understanding quantization concept\n",
    "plt.imshow(image)\n",
    "plt.show()"
   ]
  },
  {
   "cell_type": "markdown",
   "id": "0dd70a3e",
   "metadata": {},
   "source": [
    "#### Let’s try this in an actual image. Here I have an image of a pizza."
   ]
  },
  {
   "cell_type": "code",
   "execution_count": null,
   "id": "29d3b917",
   "metadata": {},
   "outputs": [],
   "source": [
    "pizza = imread('pizza.jpg')\n",
    "from skimage.transform import downscale_local_mean\n",
    "factors = 3**np.arange(1, 5)\n",
    "figure, axis = plt.subplots(1, len(factors), figsize=(20, 6))\n",
    "for factor, ax in zip(factors, axis):\n",
    "    image = downscale_local_mean(pizza, \n",
    "                 factors=(factor, factor, 1)).astype(int)\n",
    "    ax.imshow(image)\n",
    "    ax.set_title('$N={}$'.format(image.shape[0]))"
   ]
  },
  {
   "cell_type": "markdown",
   "id": "0185ce51",
   "metadata": {},
   "source": [
    "In the first two images, we can observe that there is not much of a difference. This signifies that unless we need to zoom in on the image, we do not require a higher resolution on the image to understand the image’s details better.\n",
    "\n",
    "However, as we further decrease the sampling on the image’s spatial resolution, it is clear that the image is no longer clear. Lots of information is lost, and the digital image cannot fully represent the analog object."
   ]
  },
  {
   "cell_type": "code",
   "execution_count": null,
   "id": "c508f8ba",
   "metadata": {},
   "outputs": [],
   "source": [
    "pizza = imread('snow white.jpeg')\n",
    "from skimage.transform import downscale_local_mean\n",
    "factors = 3**np.arange(1, 5)\n",
    "figure, axis = plt.subplots(1, len(factors), figsize=(20, 6))\n",
    "for factor, ax in zip(factors, axis):\n",
    "    image = downscale_local_mean(pizza, \n",
    "                 factors=(factor, factor, 1)).astype(int)\n",
    "    ax.imshow(image)\n",
    "    ax.set_title('$N={}$'.format(image.shape[0]))"
   ]
  },
  {
   "cell_type": "markdown",
   "id": "3455a527",
   "metadata": {},
   "source": [
    "#### Image quantization "
   ]
  },
  {
   "cell_type": "markdown",
   "id": "a58d6968",
   "metadata": {},
   "source": [
    "Image quantization involves discretizing the intensity values of the analog image.\n",
    "\n",
    "To demonstrate this, let us try to discretize an analog image of a circle where k is the number of bits representing an intensity value.\n",
    "\n",
    "def circle_image(x, y):\n",
    "    X, Y = np.meshgrid(x, y)\n",
    "    return X**2 + Y**2\n",
    "factors = 2**np.arange(1, 5)\n",
    "circ_image = circle_image(np.linspace(0, 1, num=4), \n",
    "                          np.linspace(0, 1, num=4))\n",
    "fig, ax = plt.subplots(1, len(factors), figsize=(15, 4))\n",
    "for i, k in enumerate(factors):\n",
    "    bins = np.linspace(0, circ_image.max(), k)\n",
    "    image = np.digitize(circ_image, bins)\n",
    "    image = np.vectorize(bins.tolist().__getitem__)(image-1)\n",
    "    ax[i].imshow(image)\n",
    "    ax[i].set_title('$k = {}$'.format(k))"
   ]
  },
  {
   "cell_type": "code",
   "execution_count": null,
   "id": "a8a1fff4",
   "metadata": {
    "slideshow": {
     "slide_type": "subslide"
    }
   },
   "outputs": [],
   "source": [
    "image=imread(\"image quantization.png\")  #this image only for understanding quantization concept\n",
    "plt.imshow(image)\n",
    "plt.show()"
   ]
  },
  {
   "cell_type": "markdown",
   "id": "98fb98da",
   "metadata": {
    "slideshow": {
     "slide_type": "subslide"
    }
   },
   "source": [
    "As we can observe, the color representation of the image is much better as k increases. This signifies that as we increase the number of discrete values representing the image intensity values in the image, the better we can represent an analog object into a digital image.\n",
    "\n",
    "Again, let’s try this in our image of a pizza."
   ]
  },
  {
   "cell_type": "code",
   "execution_count": null,
   "id": "f55e0657",
   "metadata": {},
   "outputs": [],
   "source": [
    "pizza = imread('pizza.jpg')\n",
    "factors = 2**np.arange(1, 5)\n",
    "figure, axis = plt.subplots(1, len(factors), figsize=(20, 6))\n",
    "for k, ax in zip(factors, axis):\n",
    "    bins = np.linspace(0, pizza.max(), k)\n",
    "    image = np.digitize(pizza, bins)\n",
    "    image = (np.vectorize(bins.tolist().__getitem__)\n",
    "                         (image-1).astype(int))\n",
    "    ax.imshow(image)\n",
    "    ax.set_title('$k = {}$'.format(k))"
   ]
  },
  {
   "cell_type": "markdown",
   "id": "3cd6be07",
   "metadata": {},
   "source": [
    "On the lower spectrum, we can see that as we further decrease the image’s discretization, \n",
    "the image quality degradation becomes more apparent. This comes to the point where the digital image can no longer represent \n",
    "the analog object’s varying shades of color due to the limited intensity value range.\n",
    "\n",
    "On the higher spectrum, we can observe that there is not much of a difference. \n",
    "This signifies that there is a limit on how much discrete intensity values the human eye can perceive. \n",
    "If we further increase the number of discrete intensity values, there will be little to no difference in the image’s quality."
   ]
  },
  {
   "cell_type": "markdown",
   "id": "86d04dcb",
   "metadata": {},
   "source": [
    "#### Summary"
   ]
  },
  {
   "cell_type": "markdown",
   "id": "a15a9299",
   "metadata": {},
   "source": [
    "We have explored how image quality can be improved and degraded using image sampling and quantization. Too little sampling or quantization of images can drastically degrade its quality, whereas too much can have no incremental improvement in image quality."
   ]
  }
 ],
 "metadata": {
  "kernelspec": {
   "display_name": "Python 3 (ipykernel)",
   "language": "python",
   "name": "python3"
  },
  "language_info": {
   "codemirror_mode": {
    "name": "ipython",
    "version": 3
   },
   "file_extension": ".py",
   "mimetype": "text/x-python",
   "name": "python",
   "nbconvert_exporter": "python",
   "pygments_lexer": "ipython3",
   "version": "3.10.9"
  }
 },
 "nbformat": 4,
 "nbformat_minor": 5
}
